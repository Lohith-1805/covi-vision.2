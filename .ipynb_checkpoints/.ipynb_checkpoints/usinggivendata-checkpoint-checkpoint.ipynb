{
 "cells": [
  {
   "cell_type": "code",
   "execution_count": 1,
   "id": "32e105df-69a9-4ef4-9085-4f377d63b52c",
   "metadata": {},
   "outputs": [],
   "source": [
    "imageSize = [299, 299]\n",
    "\n",
    "trainPath = r\"C:\\Users\\lohit\\OneDrive\\Desktop\\covid_project\\datasert\\train\"\n",
    "testPath = r\"C:\\Users\\lohit\\OneDrive\\Desktop\\covid_project\\datasert\\test\"\n"
   ]
  },
  {
   "cell_type": "code",
   "execution_count": 2,
   "id": "bf092f8b-5f53-4296-a070-1b8277a439aa",
   "metadata": {},
   "outputs": [],
   "source": [
    "from tensorflow.keras.layers import Dense, Flatten, Input\n",
    "from tensorflow.keras.models import Model\n",
    "from tensorflow.keras.preprocessing import image\n",
    "from tensorflow.keras.preprocessing.image import ImageDataGenerator, load_img\n",
    "from tensorflow.keras.applications.inception_v3 import InceptionV3, preprocess_input\n",
    "from glob import glob\n",
    "import numpy as np\n",
    "import matplotlib.pyplot as plt\n"
   ]
  },
  {
   "cell_type": "code",
   "execution_count": 3,
   "id": "b01bfc00-d6c6-400a-ad26-441150b49361",
   "metadata": {},
   "outputs": [],
   "source": [
    "\n",
    "train_datagen = ImageDataGenerator(\n",
    "    rescale=1./255,\n",
    "    shear_range=0.2,\n",
    "    zoom_range=0.2,\n",
    "    horizontal_flip=True\n",
    ")\n",
    "\n",
    "\n",
    "test_datagen = ImageDataGenerator(rescale=1./255)"
   ]
  },
  {
   "cell_type": "code",
   "execution_count": 14,
   "id": "7d2e4b8b-bc2c-443a-bfbe-f6234fc4887c",
   "metadata": {},
   "outputs": [
    {
     "name": "stdout",
     "output_type": "stream",
     "text": [
      "Found 11365 images belonging to 3 classes.\n",
      "Found 3788 images belonging to 3 classes.\n"
     ]
    }
   ],
   "source": [
    "training_set = train_datagen.flow_from_directory(r'C:\\Users\\lohit\\OneDrive\\Desktop\\covid_project\\datasert\\train',\n",
    "                                                target_size = (299, 299),\n",
    "                                                batch_size = 32,\n",
    "                                                class_mode = 'categorical')\n",
    "\n",
    "test_set = test_datagen.flow_from_directory(r'C:\\Users\\lohit\\OneDrive\\Desktop\\covid_project\\datasert\\test',\n",
    "                                           target_size = (299, 299),\n",
    "                                           batch_size = 32,\n",
    "                                           class_mode = 'categorical')"
   ]
  },
  {
   "cell_type": "code",
   "execution_count": 15,
   "id": "00f17095-9745-498e-a243-f985101bd5a6",
   "metadata": {},
   "outputs": [],
   "source": [
    "input_shape = (299, 299, 3)  # Adjust this if your image size is different\n",
    "\n",
    "# Create the base Inception model\n",
    "inception = InceptionV3(input_shape=input_shape, weights='imagenet', include_top=False)\n",
    "\n",
    "for layer in inception.layers:\n",
    "    layer.trainable = False\n",
    "\n",
    "x = Flatten()(inception.output)\n",
    "x = Dense(3, activation='softmax')(x)  # Ensure 3 output units for 3 classes\n",
    "\n",
    "model = Model(inputs=inception.input, outputs=x)\n",
    "\n",
    "model.compile(\n",
    "    loss='categorical_crossentropy',\n",
    "    optimizer='adam',\n",
    "    metrics=['accuracy']\n",
    ")\n"
   ]
  },
  {
   "cell_type": "code",
   "execution_count": 16,
   "id": "1acc9e22-4429-458c-8cf0-c3dfa0b978a6",
   "metadata": {},
   "outputs": [
    {
     "name": "stdout",
     "output_type": "stream",
     "text": [
      "Epoch 1/25\n"
     ]
    },
    {
     "name": "stderr",
     "output_type": "stream",
     "text": [
      "C:\\Users\\lohit\\anaconda3\\Lib\\site-packages\\keras\\src\\trainers\\data_adapters\\py_dataset_adapter.py:121: UserWarning: Your `PyDataset` class should call `super().__init__(**kwargs)` in its constructor. `**kwargs` can include `workers`, `use_multiprocessing`, `max_queue_size`. Do not pass these arguments to `fit()`, as they will be ignored.\n",
      "  self._warn_if_super_not_called()\n"
     ]
    },
    {
     "name": "stdout",
     "output_type": "stream",
     "text": [
      "\u001b[1m22/22\u001b[0m \u001b[32m━━━━━━━━━━━━━━━━━━━━\u001b[0m\u001b[37m\u001b[0m \u001b[1m201s\u001b[0m 7s/step - accuracy: 0.6477 - loss: 12.1274 - val_accuracy: 0.5268 - val_loss: 15.5263\n",
      "Epoch 2/25\n",
      "\u001b[1m22/22\u001b[0m \u001b[32m━━━━━━━━━━━━━━━━━━━━\u001b[0m\u001b[37m\u001b[0m \u001b[1m131s\u001b[0m 6s/step - accuracy: 0.8444 - loss: 2.7978 - val_accuracy: 0.5134 - val_loss: 15.1250\n",
      "Epoch 3/25\n",
      "\u001b[1m22/22\u001b[0m \u001b[32m━━━━━━━━━━━━━━━━━━━━\u001b[0m\u001b[37m\u001b[0m \u001b[1m132s\u001b[0m 6s/step - accuracy: 0.9005 - loss: 1.2927 - val_accuracy: 0.5223 - val_loss: 16.2306\n",
      "Epoch 4/25\n",
      "\u001b[1m22/22\u001b[0m \u001b[32m━━━━━━━━━━━━━━━━━━━━\u001b[0m\u001b[37m\u001b[0m \u001b[1m132s\u001b[0m 6s/step - accuracy: 0.8907 - loss: 0.9735 - val_accuracy: 0.5580 - val_loss: 17.4455\n",
      "Epoch 5/25\n",
      "\u001b[1m22/22\u001b[0m \u001b[32m━━━━━━━━━━━━━━━━━━━━\u001b[0m\u001b[37m\u001b[0m \u001b[1m134s\u001b[0m 6s/step - accuracy: 0.8857 - loss: 1.1252 - val_accuracy: 0.5491 - val_loss: 25.6969\n",
      "Epoch 6/25\n",
      "\u001b[1m22/22\u001b[0m \u001b[32m━━━━━━━━━━━━━━━━━━━━\u001b[0m\u001b[37m\u001b[0m \u001b[1m127s\u001b[0m 6s/step - accuracy: 0.8552 - loss: 1.7745 - val_accuracy: 0.5045 - val_loss: 31.1462\n",
      "Epoch 7/25\n",
      "\u001b[1m22/22\u001b[0m \u001b[32m━━━━━━━━━━━━━━━━━━━━\u001b[0m\u001b[37m\u001b[0m \u001b[1m131s\u001b[0m 6s/step - accuracy: 0.8434 - loss: 2.4089 - val_accuracy: 0.5670 - val_loss: 29.7693\n",
      "Epoch 8/25\n",
      "\u001b[1m22/22\u001b[0m \u001b[32m━━━━━━━━━━━━━━━━━━━━\u001b[0m\u001b[37m\u001b[0m \u001b[1m125s\u001b[0m 6s/step - accuracy: 0.8211 - loss: 3.1889 - val_accuracy: 0.5045 - val_loss: 28.3624\n"
     ]
    }
   ],
   "source": [
    "import tensorflow\n",
    "\n",
    "my_callbacks = [\n",
    "    tensorflow.keras.callbacks.EarlyStopping(patience=6)\n",
    "]\n",
    "\n",
    "# fit the model\n",
    "r = model.fit(\n",
    "    training_set,\n",
    "    validation_data=test_set,\n",
    "    epochs=25,\n",
    "    steps_per_epoch=len(training_set)//16,\n",
    "    validation_steps=len(test_set)//16,\n",
    "    callbacks = my_callbacks\n",
    ")"
   ]
  },
  {
   "cell_type": "code",
   "execution_count": null,
   "id": "5d7d1f7e-084b-4452-859c-8ea505413315",
   "metadata": {},
   "outputs": [],
   "source": []
  }
 ],
 "metadata": {
  "kernelspec": {
   "display_name": "Python 3 (ipykernel)",
   "language": "python",
   "name": "python3"
  },
  "language_info": {
   "codemirror_mode": {
    "name": "ipython",
    "version": 3
   },
   "file_extension": ".py",
   "mimetype": "text/x-python",
   "name": "python",
   "nbconvert_exporter": "python",
   "pygments_lexer": "ipython3",
   "version": "3.11.7"
  }
 },
 "nbformat": 4,
 "nbformat_minor": 5
}
